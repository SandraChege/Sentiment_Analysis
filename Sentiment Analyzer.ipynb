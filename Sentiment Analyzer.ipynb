{
 "cells": [
  {
   "cell_type": "code",
   "execution_count": 1,
   "id": "fc1c65dc",
   "metadata": {},
   "outputs": [
    {
     "name": "stderr",
     "output_type": "stream",
     "text": [
      "[nltk_data] Downloading package stopwords to\n",
      "[nltk_data]     C:\\Users\\admin\\AppData\\Roaming\\nltk_data...\n",
      "[nltk_data]   Package stopwords is already up-to-date!\n"
     ]
    }
   ],
   "source": [
    "import pandas as pd #for data manipulation\n",
    "import numpy as np #for numerical nalysis\n",
    "import seaborn as sns #for data visualization\n",
    "import matplotlib.pyplot as plt #for data visualization\n",
    "import nltk # Natural Language tool kit \n",
    "import wordcloud\n",
    "import textblob\n",
    "import os\n",
    "import string\n",
    "import re\n",
    "nltk.download('stopwords')\n",
    "from nltk.corpus import stopwords\n",
    "from nltk.stem import PorterStemmer \n",
    "from wordcloud import WordCloud\n",
    "from textblob import TextBlob"
   ]
  },
  {
   "cell_type": "code",
   "execution_count": 2,
   "id": "3a7b0dac",
   "metadata": {},
   "outputs": [],
   "source": [
    "#load data\n",
    "swahili_data=pd.read_csv('swahili.csv')"
   ]
  },
  {
   "cell_type": "code",
   "execution_count": 3,
   "id": "1e3da87c",
   "metadata": {},
   "outputs": [
    {
     "data": {
      "text/html": [
       "<div>\n",
       "<style scoped>\n",
       "    .dataframe tbody tr th:only-of-type {\n",
       "        vertical-align: middle;\n",
       "    }\n",
       "\n",
       "    .dataframe tbody tr th {\n",
       "        vertical-align: top;\n",
       "    }\n",
       "\n",
       "    .dataframe thead th {\n",
       "        text-align: right;\n",
       "    }\n",
       "</style>\n",
       "<table border=\"1\" class=\"dataframe\">\n",
       "  <thead>\n",
       "    <tr style=\"text-align: right;\">\n",
       "      <th></th>\n",
       "      <th>Unnamed: 0</th>\n",
       "      <th>text</th>\n",
       "      <th>labels</th>\n",
       "    </tr>\n",
       "  </thead>\n",
       "  <tbody>\n",
       "    <tr>\n",
       "      <th>0</th>\n",
       "      <td>0</td>\n",
       "      <td>team 2019merimera alikuwa takataka</td>\n",
       "      <td>negative</td>\n",
       "    </tr>\n",
       "    <tr>\n",
       "      <th>1</th>\n",
       "      <td>1</td>\n",
       "      <td>sijafurahishwa</td>\n",
       "      <td>negative</td>\n",
       "    </tr>\n",
       "    <tr>\n",
       "      <th>2</th>\n",
       "      <td>2</td>\n",
       "      <td>kubuni dosari</td>\n",
       "      <td>negative</td>\n",
       "    </tr>\n",
       "    <tr>\n",
       "      <th>3</th>\n",
       "      <td>3</td>\n",
       "      <td>bila kusema nilipoteza pesa zangu</td>\n",
       "      <td>negative</td>\n",
       "    </tr>\n",
       "    <tr>\n",
       "      <th>4</th>\n",
       "      <td>4</td>\n",
       "      <td>sema kupoteza pesa na wakati</td>\n",
       "      <td>negative</td>\n",
       "    </tr>\n",
       "    <tr>\n",
       "      <th>5</th>\n",
       "      <td>5</td>\n",
       "      <td>ubunifu ni isiyo ya kawaida sana kwani kipande...</td>\n",
       "      <td>negative</td>\n",
       "    </tr>\n",
       "    <tr>\n",
       "      <th>6</th>\n",
       "      <td>6</td>\n",
       "      <td>akili yako imeoza</td>\n",
       "      <td>negative</td>\n",
       "    </tr>\n",
       "    <tr>\n",
       "      <th>7</th>\n",
       "      <td>7</td>\n",
       "      <td>aki si maisha ni magumu</td>\n",
       "      <td>negative</td>\n",
       "    </tr>\n",
       "    <tr>\n",
       "      <th>8</th>\n",
       "      <td>8</td>\n",
       "      <td>enyewe safaricom ni wezi</td>\n",
       "      <td>negative</td>\n",
       "    </tr>\n",
       "    <tr>\n",
       "      <th>9</th>\n",
       "      <td>9</td>\n",
       "      <td>mtandao duni hata line yao niliweka nyuma ya s...</td>\n",
       "      <td>negative</td>\n",
       "    </tr>\n",
       "  </tbody>\n",
       "</table>\n",
       "</div>"
      ],
      "text/plain": [
       "   Unnamed: 0                                               text    labels\n",
       "0           0                 team 2019merimera alikuwa takataka  negative\n",
       "1           1                                     sijafurahishwa  negative\n",
       "2           2                                      kubuni dosari  negative\n",
       "3           3                  bila kusema nilipoteza pesa zangu  negative\n",
       "4           4                       sema kupoteza pesa na wakati  negative\n",
       "5           5  ubunifu ni isiyo ya kawaida sana kwani kipande...  negative\n",
       "6           6                                  akili yako imeoza  negative\n",
       "7           7                            aki si maisha ni magumu  negative\n",
       "8           8                           enyewe safaricom ni wezi  negative\n",
       "9           9  mtandao duni hata line yao niliweka nyuma ya s...  negative"
      ]
     },
     "execution_count": 3,
     "metadata": {},
     "output_type": "execute_result"
    }
   ],
   "source": [
    "#view the first 10 items\n",
    "swahili_data.head(10)"
   ]
  },
  {
   "cell_type": "code",
   "execution_count": 4,
   "id": "f1fe95b0",
   "metadata": {},
   "outputs": [
    {
     "name": "stdout",
     "output_type": "stream",
     "text": [
      "<class 'pandas.core.frame.DataFrame'>\n",
      "RangeIndex: 3925 entries, 0 to 3924\n",
      "Data columns (total 3 columns):\n",
      " #   Column      Non-Null Count  Dtype \n",
      "---  ------      --------------  ----- \n",
      " 0   Unnamed: 0  3925 non-null   int64 \n",
      " 1   text        3925 non-null   object\n",
      " 2   labels      3925 non-null   object\n",
      "dtypes: int64(1), object(2)\n",
      "memory usage: 92.1+ KB\n"
     ]
    }
   ],
   "source": [
    "# View the DataFrame Information\n",
    "swahili_data.info()"
   ]
  },
  {
   "cell_type": "code",
   "execution_count": 5,
   "id": "965db5a0",
   "metadata": {},
   "outputs": [
    {
     "data": {
      "text/html": [
       "<div>\n",
       "<style scoped>\n",
       "    .dataframe tbody tr th:only-of-type {\n",
       "        vertical-align: middle;\n",
       "    }\n",
       "\n",
       "    .dataframe tbody tr th {\n",
       "        vertical-align: top;\n",
       "    }\n",
       "\n",
       "    .dataframe thead th {\n",
       "        text-align: right;\n",
       "    }\n",
       "</style>\n",
       "<table border=\"1\" class=\"dataframe\">\n",
       "  <thead>\n",
       "    <tr style=\"text-align: right;\">\n",
       "      <th></th>\n",
       "      <th>Unnamed: 0</th>\n",
       "    </tr>\n",
       "  </thead>\n",
       "  <tbody>\n",
       "    <tr>\n",
       "      <th>count</th>\n",
       "      <td>3925.000000</td>\n",
       "    </tr>\n",
       "    <tr>\n",
       "      <th>mean</th>\n",
       "      <td>1254.993631</td>\n",
       "    </tr>\n",
       "    <tr>\n",
       "      <th>std</th>\n",
       "      <td>885.518930</td>\n",
       "    </tr>\n",
       "    <tr>\n",
       "      <th>min</th>\n",
       "      <td>0.000000</td>\n",
       "    </tr>\n",
       "    <tr>\n",
       "      <th>25%</th>\n",
       "      <td>490.000000</td>\n",
       "    </tr>\n",
       "    <tr>\n",
       "      <th>50%</th>\n",
       "      <td>1037.000000</td>\n",
       "    </tr>\n",
       "    <tr>\n",
       "      <th>75%</th>\n",
       "      <td>2018.000000</td>\n",
       "    </tr>\n",
       "    <tr>\n",
       "      <th>max</th>\n",
       "      <td>2999.000000</td>\n",
       "    </tr>\n",
       "  </tbody>\n",
       "</table>\n",
       "</div>"
      ],
      "text/plain": [
       "        Unnamed: 0\n",
       "count  3925.000000\n",
       "mean   1254.993631\n",
       "std     885.518930\n",
       "min       0.000000\n",
       "25%     490.000000\n",
       "50%    1037.000000\n",
       "75%    2018.000000\n",
       "max    2999.000000"
      ]
     },
     "execution_count": 5,
     "metadata": {},
     "output_type": "execute_result"
    }
   ],
   "source": [
    "# View DataFrame Statistical Summary\n",
    "swahili_data.describe()"
   ]
  },
  {
   "cell_type": "code",
   "execution_count": 6,
   "id": "107d93cc",
   "metadata": {},
   "outputs": [
    {
     "data": {
      "text/html": [
       "<div>\n",
       "<style scoped>\n",
       "    .dataframe tbody tr th:only-of-type {\n",
       "        vertical-align: middle;\n",
       "    }\n",
       "\n",
       "    .dataframe tbody tr th {\n",
       "        vertical-align: top;\n",
       "    }\n",
       "\n",
       "    .dataframe thead th {\n",
       "        text-align: right;\n",
       "    }\n",
       "</style>\n",
       "<table border=\"1\" class=\"dataframe\">\n",
       "  <thead>\n",
       "    <tr style=\"text-align: right;\">\n",
       "      <th></th>\n",
       "      <th>Unnamed: 0</th>\n",
       "      <th>text</th>\n",
       "      <th>labels</th>\n",
       "    </tr>\n",
       "  </thead>\n",
       "  <tbody>\n",
       "    <tr>\n",
       "      <th>0</th>\n",
       "      <td>False</td>\n",
       "      <td>False</td>\n",
       "      <td>False</td>\n",
       "    </tr>\n",
       "    <tr>\n",
       "      <th>1</th>\n",
       "      <td>False</td>\n",
       "      <td>False</td>\n",
       "      <td>False</td>\n",
       "    </tr>\n",
       "    <tr>\n",
       "      <th>2</th>\n",
       "      <td>False</td>\n",
       "      <td>False</td>\n",
       "      <td>False</td>\n",
       "    </tr>\n",
       "    <tr>\n",
       "      <th>3</th>\n",
       "      <td>False</td>\n",
       "      <td>False</td>\n",
       "      <td>False</td>\n",
       "    </tr>\n",
       "    <tr>\n",
       "      <th>4</th>\n",
       "      <td>False</td>\n",
       "      <td>False</td>\n",
       "      <td>False</td>\n",
       "    </tr>\n",
       "    <tr>\n",
       "      <th>...</th>\n",
       "      <td>...</td>\n",
       "      <td>...</td>\n",
       "      <td>...</td>\n",
       "    </tr>\n",
       "    <tr>\n",
       "      <th>3920</th>\n",
       "      <td>False</td>\n",
       "      <td>False</td>\n",
       "      <td>False</td>\n",
       "    </tr>\n",
       "    <tr>\n",
       "      <th>3921</th>\n",
       "      <td>False</td>\n",
       "      <td>False</td>\n",
       "      <td>False</td>\n",
       "    </tr>\n",
       "    <tr>\n",
       "      <th>3922</th>\n",
       "      <td>False</td>\n",
       "      <td>False</td>\n",
       "      <td>False</td>\n",
       "    </tr>\n",
       "    <tr>\n",
       "      <th>3923</th>\n",
       "      <td>False</td>\n",
       "      <td>False</td>\n",
       "      <td>False</td>\n",
       "    </tr>\n",
       "    <tr>\n",
       "      <th>3924</th>\n",
       "      <td>False</td>\n",
       "      <td>False</td>\n",
       "      <td>False</td>\n",
       "    </tr>\n",
       "  </tbody>\n",
       "</table>\n",
       "<p>3925 rows × 3 columns</p>\n",
       "</div>"
      ],
      "text/plain": [
       "      Unnamed: 0   text  labels\n",
       "0          False  False   False\n",
       "1          False  False   False\n",
       "2          False  False   False\n",
       "3          False  False   False\n",
       "4          False  False   False\n",
       "...          ...    ...     ...\n",
       "3920       False  False   False\n",
       "3921       False  False   False\n",
       "3922       False  False   False\n",
       "3923       False  False   False\n",
       "3924       False  False   False\n",
       "\n",
       "[3925 rows x 3 columns]"
      ]
     },
     "execution_count": 6,
     "metadata": {},
     "output_type": "execute_result"
    }
   ],
   "source": [
    "#checks for null elements\n",
    "swahili_data.isnull()"
   ]
  },
  {
   "cell_type": "code",
   "execution_count": 7,
   "id": "bbd79670",
   "metadata": {},
   "outputs": [
    {
     "data": {
      "text/plain": [
       "Unnamed: 0    0\n",
       "text          0\n",
       "labels        0\n",
       "dtype: int64"
      ]
     },
     "execution_count": 7,
     "metadata": {},
     "output_type": "execute_result"
    }
   ],
   "source": [
    "#checks for null elements\n",
    "swahili_data.isnull().sum()"
   ]
  },
  {
   "cell_type": "code",
   "execution_count": 8,
   "id": "ee86ece3",
   "metadata": {},
   "outputs": [
    {
     "data": {
      "text/plain": [
       "<AxesSubplot:>"
      ]
     },
     "execution_count": 8,
     "metadata": {},
     "output_type": "execute_result"
    },
    {
     "data": {
      "image/png": "[encoded data removed]",
      "text/plain": [
       "<Figure size 640x480 with 2 Axes>"
      ]
     },
     "metadata": {},
     "output_type": "display_data"
    }
   ],
   "source": [
    "#checks for null elements\n",
    "sns.heatmap(swahili_data.isnull())"
   ]
  },
  {
   "cell_type": "code",
   "execution_count": 9,
   "id": "e5f7ee98",
   "metadata": {},
   "outputs": [
    {
     "name": "stdout",
     "output_type": "stream",
     "text": [
      "(3925, 3)\n"
     ]
    }
   ],
   "source": [
    "#Shape in form of rows, cols\n",
    "print(swahili_data.shape)"
   ]
  },
  {
   "cell_type": "code",
   "execution_count": 10,
   "id": "4531c913",
   "metadata": {
    "scrolled": true
   },
   "outputs": [
    {
     "data": {
      "text/html": [
       "<div>\n",
       "<style scoped>\n",
       "    .dataframe tbody tr th:only-of-type {\n",
       "        vertical-align: middle;\n",
       "    }\n",
       "\n",
       "    .dataframe tbody tr th {\n",
       "        vertical-align: top;\n",
       "    }\n",
       "\n",
       "    .dataframe thead th {\n",
       "        text-align: right;\n",
       "    }\n",
       "</style>\n",
       "<table border=\"1\" class=\"dataframe\">\n",
       "  <thead>\n",
       "    <tr style=\"text-align: right;\">\n",
       "      <th></th>\n",
       "      <th>Unnamed: 0</th>\n",
       "      <th>text</th>\n",
       "      <th>labels</th>\n",
       "      <th>length</th>\n",
       "    </tr>\n",
       "  </thead>\n",
       "  <tbody>\n",
       "    <tr>\n",
       "      <th>0</th>\n",
       "      <td>0</td>\n",
       "      <td>team 2019merimera alikuwa takataka</td>\n",
       "      <td>negative</td>\n",
       "      <td>34</td>\n",
       "    </tr>\n",
       "    <tr>\n",
       "      <th>1</th>\n",
       "      <td>1</td>\n",
       "      <td>sijafurahishwa</td>\n",
       "      <td>negative</td>\n",
       "      <td>14</td>\n",
       "    </tr>\n",
       "    <tr>\n",
       "      <th>2</th>\n",
       "      <td>2</td>\n",
       "      <td>kubuni dosari</td>\n",
       "      <td>negative</td>\n",
       "      <td>13</td>\n",
       "    </tr>\n",
       "    <tr>\n",
       "      <th>3</th>\n",
       "      <td>3</td>\n",
       "      <td>bila kusema nilipoteza pesa zangu</td>\n",
       "      <td>negative</td>\n",
       "      <td>33</td>\n",
       "    </tr>\n",
       "    <tr>\n",
       "      <th>4</th>\n",
       "      <td>4</td>\n",
       "      <td>sema kupoteza pesa na wakati</td>\n",
       "      <td>negative</td>\n",
       "      <td>28</td>\n",
       "    </tr>\n",
       "    <tr>\n",
       "      <th>...</th>\n",
       "      <td>...</td>\n",
       "      <td>...</td>\n",
       "      <td>...</td>\n",
       "      <td>...</td>\n",
       "    </tr>\n",
       "    <tr>\n",
       "      <th>3920</th>\n",
       "      <td>2995</td>\n",
       "      <td>Nafikiri chakula chapasa kuwa na ladha na umbi...</td>\n",
       "      <td>negative</td>\n",
       "      <td>77</td>\n",
       "    </tr>\n",
       "    <tr>\n",
       "      <th>3921</th>\n",
       "      <td>2996</td>\n",
       "      <td>hamu ya kula ilitoweka mara moja</td>\n",
       "      <td>negative</td>\n",
       "      <td>32</td>\n",
       "    </tr>\n",
       "    <tr>\n",
       "      <th>3922</th>\n",
       "      <td>2997</td>\n",
       "      <td>Kwa ujumla sikuvutiwa na nisirudi nyuma</td>\n",
       "      <td>negative</td>\n",
       "      <td>39</td>\n",
       "    </tr>\n",
       "    <tr>\n",
       "      <th>3923</th>\n",
       "      <td>2998</td>\n",
       "      <td>Mambo yote yaliyoonwa yalikuwa chini ya kiwang...</td>\n",
       "      <td>negative</td>\n",
       "      <td>122</td>\n",
       "    </tr>\n",
       "    <tr>\n",
       "      <th>3924</th>\n",
       "      <td>2999</td>\n",
       "      <td>Basi ni kana kwamba nilipoteza maisha yangu ya...</td>\n",
       "      <td>negative</td>\n",
       "      <td>132</td>\n",
       "    </tr>\n",
       "  </tbody>\n",
       "</table>\n",
       "<p>3925 rows × 4 columns</p>\n",
       "</div>"
      ],
      "text/plain": [
       "      Unnamed: 0                                               text    labels  \\\n",
       "0              0                 team 2019merimera alikuwa takataka  negative   \n",
       "1              1                                     sijafurahishwa  negative   \n",
       "2              2                                      kubuni dosari  negative   \n",
       "3              3                  bila kusema nilipoteza pesa zangu  negative   \n",
       "4              4                       sema kupoteza pesa na wakati  negative   \n",
       "...          ...                                                ...       ...   \n",
       "3920        2995  Nafikiri chakula chapasa kuwa na ladha na umbi...  negative   \n",
       "3921        2996                   hamu ya kula ilitoweka mara moja  negative   \n",
       "3922        2997            Kwa ujumla sikuvutiwa na nisirudi nyuma  negative   \n",
       "3923        2998  Mambo yote yaliyoonwa yalikuwa chini ya kiwang...  negative   \n",
       "3924        2999  Basi ni kana kwamba nilipoteza maisha yangu ya...  negative   \n",
       "\n",
       "      length  \n",
       "0         34  \n",
       "1         14  \n",
       "2         13  \n",
       "3         33  \n",
       "4         28  \n",
       "...      ...  \n",
       "3920      77  \n",
       "3921      32  \n",
       "3922      39  \n",
       "3923     122  \n",
       "3924     132  \n",
       "\n",
       "[3925 rows x 4 columns]"
      ]
     },
     "execution_count": 10,
     "metadata": {},
     "output_type": "execute_result"
    }
   ],
   "source": [
    "#feature extraction:Length of the review text\n",
    "swahili_data['length']=swahili_data['text'].apply(len)\n",
    "swahili_data"
   ]
  },
  {
   "cell_type": "code",
   "execution_count": 11,
   "id": "47add248",
   "metadata": {},
   "outputs": [],
   "source": [
    "sorted_data = swahili_data.sort_values(by='length')"
   ]
  },
  {
   "cell_type": "code",
   "execution_count": 12,
   "id": "114a0a3a",
   "metadata": {},
   "outputs": [
    {
     "name": "stdout",
     "output_type": "stream",
     "text": [
      "      Unnamed: 0                                               text    labels  \\\n",
      "2945        2020                                                kla  negative   \n",
      "2418        1493                                               Ione  positive   \n",
      "3090        2165                                               tamu  positive   \n",
      "514          514                                               1010  positive   \n",
      "2713        1788                                               1010  positive   \n",
      "...          ...                                                ...       ...   \n",
      "601          601  sinema hii ni bora malaika ni mzuri na scamp n...  positive   \n",
      "2353        1428  matumizi ya hali ya polepole ya kihisia - moyo...  negative   \n",
      "2346        1421  Filamu hii ni nzuri sana na mpunjaji ni viruka...  positive   \n",
      "2545        1620  Hii ni sehemu yenye ustadi ya utengenezaji wa ...  positive   \n",
      "650          650  hii ni sehemu nzuri ya utengenezaji wa filamu ...  positive   \n",
      "\n",
      "      length  \n",
      "2945       3  \n",
      "2418       4  \n",
      "3090       4  \n",
      "514        4  \n",
      "2713       4  \n",
      "...      ...  \n",
      "601      354  \n",
      "2353     374  \n",
      "2346     386  \n",
      "2545     445  \n",
      "650      459  \n",
      "\n",
      "[3925 rows x 4 columns]\n"
     ]
    }
   ],
   "source": [
    "#sorts length by ascending order\n",
    "swahili_data_sorted = swahili_data.sort_values(by='length', ascending=True)\n",
    "print(swahili_data_sorted)"
   ]
  },
  {
   "cell_type": "code",
   "execution_count": 13,
   "id": "61d3c10a",
   "metadata": {},
   "outputs": [
    {
     "name": "stdout",
     "output_type": "stream",
     "text": [
      "650    hii ni sehemu nzuri ya utengenezaji wa filamu ...\n",
      "Name: text, dtype: object\n"
     ]
    }
   ],
   "source": [
    "#the tail() function to displays the longest text:\n",
    "print(sorted_data.tail(1)['text'])"
   ]
  },
  {
   "cell_type": "code",
   "execution_count": 14,
   "id": "04b57c22",
   "metadata": {},
   "outputs": [
    {
     "name": "stdout",
     "output_type": "stream",
     "text": [
      "2945    kla\n",
      "Name: text, dtype: object\n"
     ]
    }
   ],
   "source": [
    "#The head() function to displays the shortest text:\n",
    "print(sorted_data.head(1)['text'])"
   ]
  },
  {
   "cell_type": "code",
   "execution_count": 15,
   "id": "d15003ee",
   "metadata": {},
   "outputs": [
    {
     "data": {
      "text/plain": [
       "<AxesSubplot:ylabel='Frequency'>"
      ]
     },
     "execution_count": 15,
     "metadata": {},
     "output_type": "execute_result"
    },
    {
     "data": {
      "image/png": "[encoded data removed]",
      "text/plain": [
       "<Figure size 640x480 with 1 Axes>"
      ]
     },
     "metadata": {},
     "output_type": "display_data"
    }
   ],
   "source": [
    "# Plot the histogram for the length\n",
    "swahili_data['length'].plot(bins = 30, kind= 'hist', color = 'teal')"
   ]
  },
  {
   "cell_type": "code",
   "execution_count": 16,
   "id": "16fe2e7f",
   "metadata": {},
   "outputs": [
    {
     "data": {
      "text/plain": [
       "positive    2002\n",
       "negative    1923\n",
       "Name: labels, dtype: int64"
      ]
     },
     "execution_count": 16,
     "metadata": {},
     "output_type": "execute_result"
    }
   ],
   "source": [
    "swahili_data['labels'].value_counts()"
   ]
  },
  {
   "cell_type": "code",
   "execution_count": 17,
   "id": "13f82d8a",
   "metadata": {},
   "outputs": [
    {
     "name": "stdout",
     "output_type": "stream",
     "text": [
      "      Unnamed: 0                                               text    labels  \\\n",
      "0              0                 team 2019merimera alikuwa takataka  negative   \n",
      "1              1                                     sijafurahishwa  negative   \n",
      "2              2                                      kubuni dosari  negative   \n",
      "3              3                  bila kusema nilipoteza pesa zangu  negative   \n",
      "4              4                       sema kupoteza pesa na wakati  negative   \n",
      "...          ...                                                ...       ...   \n",
      "3920        2995  Nafikiri chakula chapasa kuwa na ladha na umbi...  negative   \n",
      "3921        2996                   hamu ya kula ilitoweka mara moja  negative   \n",
      "3922        2997            Kwa ujumla sikuvutiwa na nisirudi nyuma  negative   \n",
      "3923        2998  Mambo yote yaliyoonwa yalikuwa chini ya kiwang...  negative   \n",
      "3924        2999  Basi ni kana kwamba nilipoteza maisha yangu ya...  negative   \n",
      "\n",
      "      length  \n",
      "0         34  \n",
      "1         14  \n",
      "2         13  \n",
      "3         33  \n",
      "4         28  \n",
      "...      ...  \n",
      "3920      77  \n",
      "3921      32  \n",
      "3922      39  \n",
      "3923     122  \n",
      "3924     132  \n",
      "\n",
      "[1923 rows x 4 columns]\n"
     ]
    }
   ],
   "source": [
    "# Obtain only the negative reviews\n",
    "negative_feedback = swahili_data[swahili_data['labels'] == 'negative' ]\n",
    "print(negative_feedback)"
   ]
  },
  {
   "cell_type": "code",
   "execution_count": 18,
   "id": "094ee653",
   "metadata": {},
   "outputs": [
    {
     "name": "stdout",
     "output_type": "stream",
     "text": [
      "      Unnamed: 0                                               text    labels  \\\n",
      "423          423                                yeye ni mrembo sana  positive   \n",
      "424          424                          tunaipenda hii ngoma sana  positive   \n",
      "425          425  yani nahisi mapenzi hadi kwa miguu naipenda ng...  positive   \n",
      "426          426  waah hii ngoma ilikua imeshika nikiwa darasa l...  positive   \n",
      "427          427          safi mgenge2018 na hii ngoma bado ni moto  positive   \n",
      "...          ...                                                ...       ...   \n",
      "3824        2899                             Mambo mengi yaliyoonwa  positive   \n",
      "3826        2901  Mkate wao uliochomwa kwa ukawaida ulitosheleza...  positive   \n",
      "3832        2907  vibanzi na vyombo vinavyoweza kuuzwa hapa ni v...  positive   \n",
      "3834        2909           Hapa ndipo mahali ninapopaona vegas mpya  positive   \n",
      "3847        2922  kila wakati nilapo hapa mimi huona ushirikiano...  positive   \n",
      "\n",
      "      length  \n",
      "423       19  \n",
      "424       25  \n",
      "425       54  \n",
      "426       96  \n",
      "427       41  \n",
      "...      ...  \n",
      "3824      22  \n",
      "3826      86  \n",
      "3832      54  \n",
      "3834      40  \n",
      "3847      85  \n",
      "\n",
      "[2002 rows x 4 columns]\n"
     ]
    }
   ],
   "source": [
    "# Obtain only the positive reviews\n",
    "positive_feedback = swahili_data[swahili_data['labels'] == 'positive' ]\n",
    "print(positive_feedback)"
   ]
  },
  {
   "cell_type": "code",
   "execution_count": 19,
   "id": "259a1428",
   "metadata": {},
   "outputs": [],
   "source": [
    "# Convert to list format\n",
    "paragraph = negative_feedback['text'].tolist()\n",
    "# Join all reviews into one large string\n",
    "paragraph_as_one = ' '.join(paragraph)"
   ]
  },
  {
   "cell_type": "code",
   "execution_count": 20,
   "id": "51d9dda5",
   "metadata": {},
   "outputs": [
    {
     "data": {
      "text/plain": [
       "<matplotlib.image.AxesImage at 0x1b8c59dc850>"
      ]
     },
     "execution_count": 20,
     "metadata": {},
     "output_type": "execute_result"
    },
    {
     "data": {
      "image/png": "[encoded data removed]",
      "text/plain": [
       "<Figure size 2000x2000 with 1 Axes>"
      ]
     },
     "metadata": {},
     "output_type": "display_data"
    }
   ],
   "source": [
    "#negative reviews wordcloud\n",
    "from wordcloud import WordCloud\n",
    "\n",
    "plt.figure(figsize=(20,20))\n",
    "plt.imshow(WordCloud().generate(paragraph_as_one))"
   ]
  },
  {
   "cell_type": "code",
   "execution_count": 21,
   "id": "f94fc594",
   "metadata": {},
   "outputs": [],
   "source": [
    "# Open the stopwords file and read its contents\n",
    "with open('swahili_stopwords.txt', 'r') as f:\n",
    "    stopwords_contents = f.read()\n",
    "\n",
    "# Split the contents of the file into a list of strings\n",
    "stopwords_list = stopwords_contents.split()\n",
    "\n",
    "# Remove any empty strings or whitespace from the list (optional)\n",
    "stopwords_list = [string for string in stopwords_list if string.strip()]\n",
    "\n",
    "#concatenate the stopwords both English and Swahili\n",
    "Stopwords = set(stopwords.words('english') + stopwords_list)\n",
    "\n",
    "# function to clean text\n",
    "def clean_text(text):\n",
    "    \n",
    "    # remove punctuation\n",
    "    #can use [^\\w\\s] or [‘’“”…,] or !\"#\\$%&\\'\\(\\)\\*\\+,\\-\\./:;<=>\\?@\\[\\\\\\]\\^_`{\\|}~\n",
    "    #[^\\w\\s] removes any character that is not a letter, digit, or underscore) or whitespace.^ means is not\n",
    "    text = re.sub('[^\\w\\s]', '', text)\n",
    "    \n",
    "    #convert text to lowercase\n",
    "    text = text.lower()\n",
    "    \n",
    "    #remove numbers and keep text/alphabet only\n",
    "    text = re.sub(\"[^a-zA-Z]\",\" \",text)\n",
    "    \n",
    "    #remove parentheses\n",
    "    text = re.sub('[()]', '', text)\n",
    "    \n",
    "    #Tokenization\n",
    "    text = text.split()\n",
    "    \n",
    "    # remove stopwords\n",
    "    text = [word for word in text if word not in Stopwords]\n",
    "    \n",
    "    # stem the words\n",
    "    porter = PorterStemmer()\n",
    "    text = [porter.stem(word) for word in text]\n",
    "    \n",
    "    # join the cleaned words back into a string\n",
    "    text = ' '.join(text)\n",
    "    \n",
    "    return text"
   ]
  },
  {
   "cell_type": "code",
   "execution_count": 22,
   "id": "32eead77",
   "metadata": {
    "scrolled": true
   },
   "outputs": [
    {
     "data": {
      "text/html": [
       "<div>\n",
       "<style scoped>\n",
       "    .dataframe tbody tr th:only-of-type {\n",
       "        vertical-align: middle;\n",
       "    }\n",
       "\n",
       "    .dataframe tbody tr th {\n",
       "        vertical-align: top;\n",
       "    }\n",
       "\n",
       "    .dataframe thead th {\n",
       "        text-align: right;\n",
       "    }\n",
       "</style>\n",
       "<table border=\"1\" class=\"dataframe\">\n",
       "  <thead>\n",
       "    <tr style=\"text-align: right;\">\n",
       "      <th></th>\n",
       "      <th>Unnamed: 0</th>\n",
       "      <th>text</th>\n",
       "      <th>labels</th>\n",
       "      <th>length</th>\n",
       "    </tr>\n",
       "  </thead>\n",
       "  <tbody>\n",
       "    <tr>\n",
       "      <th>0</th>\n",
       "      <td>0</td>\n",
       "      <td>team merimera alikuwa takataka</td>\n",
       "      <td>negative</td>\n",
       "      <td>34</td>\n",
       "    </tr>\n",
       "    <tr>\n",
       "      <th>1</th>\n",
       "      <td>1</td>\n",
       "      <td>sijafurahishwa</td>\n",
       "      <td>negative</td>\n",
       "      <td>14</td>\n",
       "    </tr>\n",
       "    <tr>\n",
       "      <th>2</th>\n",
       "      <td>2</td>\n",
       "      <td>kubuni dosari</td>\n",
       "      <td>negative</td>\n",
       "      <td>13</td>\n",
       "    </tr>\n",
       "    <tr>\n",
       "      <th>3</th>\n",
       "      <td>3</td>\n",
       "      <td>bila kusema nilipoteza pesa zangu</td>\n",
       "      <td>negative</td>\n",
       "      <td>33</td>\n",
       "    </tr>\n",
       "    <tr>\n",
       "      <th>4</th>\n",
       "      <td>4</td>\n",
       "      <td>sema kupoteza pesa wakati</td>\n",
       "      <td>negative</td>\n",
       "      <td>28</td>\n",
       "    </tr>\n",
       "    <tr>\n",
       "      <th>...</th>\n",
       "      <td>...</td>\n",
       "      <td>...</td>\n",
       "      <td>...</td>\n",
       "      <td>...</td>\n",
       "    </tr>\n",
       "    <tr>\n",
       "      <th>3920</th>\n",
       "      <td>2995</td>\n",
       "      <td>nafikiri chakula chapasa kuwa ladha umbil vyot...</td>\n",
       "      <td>negative</td>\n",
       "      <td>77</td>\n",
       "    </tr>\n",
       "    <tr>\n",
       "      <th>3921</th>\n",
       "      <td>2996</td>\n",
       "      <td>hamu kula ilitoweka mara moja</td>\n",
       "      <td>negative</td>\n",
       "      <td>32</td>\n",
       "    </tr>\n",
       "    <tr>\n",
       "      <th>3922</th>\n",
       "      <td>2997</td>\n",
       "      <td>ujumla sikuvutiwa nisirudi nyuma</td>\n",
       "      <td>negative</td>\n",
       "      <td>39</td>\n",
       "    </tr>\n",
       "    <tr>\n",
       "      <th>3923</th>\n",
       "      <td>2998</td>\n",
       "      <td>mambo yote yaliyoonwa yalikuwa kiwango cha nad...</td>\n",
       "      <td>negative</td>\n",
       "      <td>122</td>\n",
       "    </tr>\n",
       "    <tr>\n",
       "      <th>3924</th>\n",
       "      <td>2999</td>\n",
       "      <td>basi kana nilipoteza maisha kutosha hapo walim...</td>\n",
       "      <td>negative</td>\n",
       "      <td>132</td>\n",
       "    </tr>\n",
       "  </tbody>\n",
       "</table>\n",
       "<p>3925 rows × 4 columns</p>\n",
       "</div>"
      ],
      "text/plain": [
       "      Unnamed: 0                                               text    labels  \\\n",
       "0              0                     team merimera alikuwa takataka  negative   \n",
       "1              1                                     sijafurahishwa  negative   \n",
       "2              2                                      kubuni dosari  negative   \n",
       "3              3                  bila kusema nilipoteza pesa zangu  negative   \n",
       "4              4                          sema kupoteza pesa wakati  negative   \n",
       "...          ...                                                ...       ...   \n",
       "3920        2995  nafikiri chakula chapasa kuwa ladha umbil vyot...  negative   \n",
       "3921        2996                      hamu kula ilitoweka mara moja  negative   \n",
       "3922        2997                   ujumla sikuvutiwa nisirudi nyuma  negative   \n",
       "3923        2998  mambo yote yaliyoonwa yalikuwa kiwango cha nad...  negative   \n",
       "3924        2999  basi kana nilipoteza maisha kutosha hapo walim...  negative   \n",
       "\n",
       "      length  \n",
       "0         34  \n",
       "1         14  \n",
       "2         13  \n",
       "3         33  \n",
       "4         28  \n",
       "...      ...  \n",
       "3920      77  \n",
       "3921      32  \n",
       "3922      39  \n",
       "3923     122  \n",
       "3924     132  \n",
       "\n",
       "[3925 rows x 4 columns]"
      ]
     },
     "execution_count": 22,
     "metadata": {},
     "output_type": "execute_result"
    }
   ],
   "source": [
    "swahili_data['text'] = swahili_data['text'].apply(clean_text)\n",
    "swahili_data"
   ]
  },
  {
   "cell_type": "code",
   "execution_count": 23,
   "id": "35630878",
   "metadata": {},
   "outputs": [],
   "source": [
    "from sklearn.feature_extraction.text import TfidfVectorizer"
   ]
  },
  {
   "cell_type": "code",
   "execution_count": 24,
   "id": "c361bfe5",
   "metadata": {},
   "outputs": [],
   "source": [
    "#Feature extraction using TfidfVectorizer \n",
    "#fit_transform: learns vocabulary and idf & returns document term matrix\n",
    "vectorizer = TfidfVectorizer()\n",
    "X = vectorizer.fit_transform(swahili_data['text'])\n",
    "y = swahili_data['labels']"
   ]
  },
  {
   "cell_type": "code",
   "execution_count": 25,
   "id": "974bbafd",
   "metadata": {},
   "outputs": [],
   "source": [
    "from sklearn.model_selection import train_test_split"
   ]
  },
  {
   "cell_type": "code",
   "execution_count": 26,
   "id": "39311859",
   "metadata": {},
   "outputs": [
    {
     "name": "stdout",
     "output_type": "stream",
     "text": [
      "(3140, 7264)\n",
      "(3140,)\n",
      "(785, 7264)\n",
      "(785,)\n"
     ]
    }
   ],
   "source": [
    "#create training and testing sets\n",
    "#test size rep % of data in test set.\n",
    "#random_state controls randomization during splitting\n",
    "X_train, X_test, y_train, y_test=train_test_split(X, y, test_size=0.2, random_state=42)\n",
    "print(X_train.shape)\n",
    "print(y_train.shape)\n",
    "print(X_test.shape)\n",
    "print(y_test.shape)"
   ]
  },
  {
   "cell_type": "code",
   "execution_count": 27,
   "id": "177b6824",
   "metadata": {},
   "outputs": [
    {
     "data": {
      "text/plain": [
       "MultinomialNB()"
      ]
     },
     "execution_count": 27,
     "metadata": {},
     "output_type": "execute_result"
    }
   ],
   "source": [
    "#Uses Naives Bayes algorithm to train the model\n",
    "from sklearn.naive_bayes import MultinomialNB\n",
    "\n",
    "nb_model = MultinomialNB()\n",
    "nb_model.fit(X_train, y_train)"
   ]
  },
  {
   "cell_type": "code",
   "execution_count": 28,
   "id": "f103545c",
   "metadata": {},
   "outputs": [],
   "source": [
    "from sklearn.metrics import accuracy_score, precision_score, recall_score, f1_score #classification_report"
   ]
  },
  {
   "cell_type": "code",
   "execution_count": 29,
   "id": "a52ef109",
   "metadata": {},
   "outputs": [
    {
     "name": "stdout",
     "output_type": "stream",
     "text": [
      "Accuracy: 76.81528662420382\n",
      "Precision: 76.88171717886047\n",
      "Recall Score: 76.81528662420382\n",
      "F1_score: 76.77634202968218\n"
     ]
    }
   ],
   "source": [
    "# Evaluate nb_model performance\n",
    "y_pred = nb_model.predict(X_test)\n",
    "\n",
    "accuracy_level = accuracy_score(y_test, y_pred)*100\n",
    "precision_level = precision_score(y_test, y_pred, average='weighted')*100\n",
    "recall_score_level= recall_score(y_test, y_pred, average='weighted')*100\n",
    "f1_score_level = f1_score(y_test, y_pred, average='weighted')*100\n",
    "\n",
    "print('Accuracy:', accuracy_level)\n",
    "print('Precision:', precision_level)\n",
    "print('Recall Score:', recall_score_level)\n",
    "print('F1_score:', f1_score_level)"
   ]
  },
  {
   "cell_type": "code",
   "execution_count": 30,
   "id": "b543de03",
   "metadata": {},
   "outputs": [
    {
     "name": "stdout",
     "output_type": "stream",
     "text": [
      "The prediction is : ['positive']\n"
     ]
    }
   ],
   "source": [
    "# Use the nb_model to make predictions on new text data\n",
    "# Replace the new text in place of Mtoto huyo ana bidii\n",
    "analyze_text = ['Mtoto huyo ana bidii']\n",
    "clean_new_text = [clean_text(text) for text in analyze_text]\n",
    "new_X = vectorizer.transform(clean_new_text)\n",
    "new_y = nb_model.predict(new_X)\n",
    "print('The prediction is :', new_y)"
   ]
  },
  {
   "cell_type": "code",
   "execution_count": null,
   "id": "4187a21f",
   "metadata": {},
   "outputs": [],
   "source": []
  }
 ],
 "metadata": {
  "kernelspec": {
   "display_name": "Python 3 (ipykernel)",
   "language": "python",
   "name": "python3"
  },
  "language_info": {
   "codemirror_mode": {
    "name": "ipython",
    "version": 3
   },
   "file_extension": ".py",
   "mimetype": "text/x-python",
   "name": "python",
   "nbconvert_exporter": "python",
   "pygments_lexer": "ipython3",
   "version": "3.9.13"
  }
 },
 "nbformat": 4,
 "nbformat_minor": 5
}
